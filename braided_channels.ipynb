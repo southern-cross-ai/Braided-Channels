{
 "cells": [
  {
   "cell_type": "markdown",
   "metadata": {},
   "source": [
    "# Braided Channels"
   ]
  },
  {
   "cell_type": "markdown",
   "metadata": {},
   "source": [
    "Author: [Yifan Luo](mailto:jeffluoyifan@gmail.com)\n",
    "\n",
    "Last updated: 7 September 2024"
   ]
  },
  {
   "cell_type": "markdown",
   "metadata": {},
   "source": [
    "## Announcement"
   ]
  },
  {
   "cell_type": "markdown",
   "metadata": {},
   "source": [
    "This notebook provides a step-by-step guide on using the [LDaCA](https://www.ldaca.edu.au) API to download the [Braided Channels](https://data.ldaca.edu.au/collection?id=arcp%3A%2F%2Fname%2Chdl10.4225~01~4F8E1281B8E2A&_crateId=arcp%3A%2F%2Fname%2Chdl10.4225~01~4F8E1281B8E2A) dataset.\n",
    "\n",
    "Please note that this notebook is adapted from the original [Australian-Text-Analytics-Platform/cooee](https://github.com/Australian-Text-Analytics-Platform/cooee/blob/main/cooee.ipynb) repository on GitHub.\n",
    "\n",
    "For any LDaCA API issues, feel free to reach out to the [Australian Text Analytics Platform (ATAP)](https://www.atap.edu.au) team via their [GitHub page](https://github.com/Australian-Text-Analytics-Platform)."
   ]
  },
  {
   "cell_type": "markdown",
   "metadata": {},
   "source": [
    "## 1. Install/Load Packages"
   ]
  },
  {
   "cell_type": "markdown",
   "metadata": {},
   "source": [
    "To install required packages, please uncomment and run the code block below."
   ]
  },
  {
   "cell_type": "code",
   "execution_count": 1,
   "metadata": {},
   "outputs": [],
   "source": [
    "# !pip install git+https://github.com/Language-Research-Technology/ldaca-py.git\n",
    "# !pip install rocrate\n",
    "# !pip install python-dotenv"
   ]
  },
  {
   "cell_type": "code",
   "execution_count": 2,
   "metadata": {
    "pycharm": {
     "name": "#%%\n"
    }
   },
   "outputs": [],
   "source": [
    "import json\n",
    "import os\n",
    "\n",
    "import requests\n",
    "from dotenv import load_dotenv          # Loads environment variables\n",
    "from ldaca.ldaca import LDaCA           # Loads the LDaCA ReST api wrapper\n",
    "from rocrate_lang.utils import as_list  # A handy utility for converting to list"
   ]
  },
  {
   "cell_type": "markdown",
   "metadata": {},
   "source": [
    "## 2. Set up Your API Key"
   ]
  },
  {
   "cell_type": "markdown",
   "metadata": {},
   "source": [
    "Before using the [LDaCA](https://data.ldaca.edu.au/) API to download the dataset, please:\n",
    "\n",
    "1. Register your account on the [LDaCA website](https://data.ldaca.edu.au/login).\n",
    "\n",
    "2. After logging in, navigate to your [User Information](https://data.ldaca.edu.au/user).\n",
    "\n",
    "3. Click the Generate button to register a new API key.\n",
    "\n",
    "4. Under the same directory, create a new file named `vars.env`.\n",
    "   \n",
    "5. Copy and save your API key into the file `vars.env` following the format:\n",
    "   \n",
    "   ```\n",
    "   API_KEY=<Your_API_Key>\n",
    "   ```\n",
    "\n",
    "After finishing the above steps, your `vars.env` file should look like:\n",
    "\n",
    "```\n",
    "API_KEY=0463c21c-****-****-b750-************\n",
    "```"
   ]
  },
  {
   "cell_type": "code",
   "execution_count": 3,
   "metadata": {
    "pycharm": {
     "name": "#%%\n"
    }
   },
   "outputs": [],
   "source": [
    "# Load the environment variables located in the \"vars.env\" file\n",
    "load_dotenv('vars.env')\n",
    "\n",
    "# Store your environment variable in this notebook\n",
    "API_TOKEN = os.getenv('API_KEY')\n",
    "\n",
    "if not API_TOKEN:\n",
    "    print(\"No API key found. Please follow the above steps to set up your API key.\")\n"
   ]
  },
  {
   "cell_type": "markdown",
   "metadata": {},
   "source": [
    "## 3. Find All Available Resource Types & Metadata"
   ]
  },
  {
   "cell_type": "markdown",
   "metadata": {},
   "source": [
    "During the process of retrieving the collection, you may encounter authorisation errors.\n",
    "\n",
    "Please try:\n",
    "1. Generating a new API key. \n",
    "2. Restarting your notebook kernel.\n",
    "3. Replacing the old API key \n",
    "4. Rerunning the notebook.\n",
    "\n",
    "The following code block will download and store the metadata `ro-crate-metadata.json` under the directory `METADATA_DIR`."
   ]
  },
  {
   "cell_type": "code",
   "execution_count": null,
   "metadata": {
    "collapsed": false,
    "pycharm": {
     "name": "#%%\n"
    }
   },
   "outputs": [],
   "source": [
    "# LDaCA API URL (DO NOT CHANGE)\n",
    "LDACA_API = 'https://data.ldaca.edu.au/api'\n",
    "\n",
    "# The ID of Braided-Channels collection (Replace it with the \"@id\" of your collection)\n",
    "COLLECTION_ID = 'arcp://name,hdl10.4225~01~4F8E1281B8E2A' \n",
    "\n",
    "# The directory for saving the retrieved metadata\n",
    "METADATA_DIR = 'metadata'\n",
    "\n",
    "ldaca = LDaCA(url=LDACA_API, token=API_TOKEN, data_dir=METADATA_DIR)\n",
    "\n",
    "# Retrieve and store the metadata in a JSON file under the directory METADATA_DIR\n",
    "ldaca.retrieve_collection(collection=COLLECTION_ID, collection_type='Collection', data_dir='metadata')\n",
    "\n",
    "# Inspect the metadata\n",
    "with open(os.path.join(METADATA_DIR, 'ro-crate-metadata.json'), 'r') as f:\n",
    "    metadata = json.load(f)\n",
    "print(json.dumps(metadata, indent=4))"
   ]
  },
  {
   "cell_type": "markdown",
   "metadata": {
    "collapsed": false,
    "pycharm": {
     "name": "#%% md\n"
    }
   },
   "source": [
    "## 3. Retrieve URLs for Main Resources"
   ]
  },
  {
   "cell_type": "markdown",
   "metadata": {},
   "source": [
    "Retrieve the URLs for all main resources. \n",
    "\n",
    "The variable `resources` is a `dict` with the key as the name of the resource and the value as the URL."
   ]
  },
  {
   "cell_type": "code",
   "execution_count": null,
   "metadata": {},
   "outputs": [],
   "source": [
    "# Specify where the main resources\n",
    "PRIMARY_OBJECT = 'RepositoryObject'\n",
    "\n",
    "# Retrieve the URLs for all main resources\n",
    "resources = {}  # key: name, value: url\n",
    "for entity in ldaca.crate.contextual_entities + ldaca.crate.data_entities:\n",
    "    if PRIMARY_OBJECT in as_list(entity.type):\n",
    "        items = ldaca.crate.dereference(entity.id).as_jsonld()['hasPart']\n",
    "        if type(items) != list:\n",
    "            items = [items]\n",
    "        for item in items:\n",
    "            url = item['@id']\n",
    "            name = url.split('/')[-1]\n",
    "            # Replace \"%20\" with \"_\" and \"%26amp%3B\" with \"&\" in file names\n",
    "            name = name.replace('%20', '_').replace('%26amp%3B', '&')\n",
    "            resources[name] = url\n",
    "            print(name, url)\n",
    "\n",
    "# Print the total number of resources\n",
    "print(f\"Retrieved {len(resources)} resources in total\")"
   ]
  },
  {
   "cell_type": "markdown",
   "metadata": {},
   "source": [
    "## 4. Download Resources from Retrieved URLs"
   ]
  },
  {
   "cell_type": "markdown",
   "metadata": {},
   "source": [
    "Specify the path `SAVE_DIR` to save your downloaded resources. \n",
    "\n",
    "The default directory is `Braided-Channels` under the same directory. "
   ]
  },
  {
   "cell_type": "code",
   "execution_count": null,
   "metadata": {},
   "outputs": [],
   "source": [
    "# Specify a path to save the resources\n",
    "SAVE_DIR = 'Braided-Channels'\n",
    "\n",
    "count = 0\n",
    "# Download resources by sending requests\n",
    "for name, url in resources.items():\n",
    "    headers = {\"Authorization\": \"Bearer %s\" % API_TOKEN}\n",
    "    # Send a GET request to the URL\n",
    "    try:\n",
    "        response = requests.get(url, headers=headers)\n",
    "        response.raise_for_status()\n",
    "    except requests.exceptions.HTTPError as http_err:\n",
    "        print(f\"HTTP error ({http_err}) occurred during requesting {name} from {url}\")\n",
    "    except requests.exceptions.ConnectionError as conn_err:\n",
    "        print(f\"Connection error ({conn_err}) occurred during requesting {name} from {url}\")\n",
    "    except requests.exceptions.Timeout as time_err:\n",
    "        print(f\"Timeout error ({time_err}) occurred during requesting {name} from {url}\")\n",
    "    except requests.exceptions.RequestException as err:\n",
    "        print(f\"Request error ({err}) occurred during requesting {name} from {url}\")\n",
    "    # Save the retrieved resource\n",
    "    if SAVE_DIR is None:\n",
    "        full_path = name\n",
    "    else:\n",
    "        # Check whether the save_path is existed\n",
    "        if not os.path.exists(SAVE_DIR):\n",
    "            os.makedirs(SAVE_DIR)\n",
    "        full_path = os.path.join(SAVE_DIR, name)\n",
    "    # Write the content of the response to a file\n",
    "    with open(full_path, 'wb') as f:\n",
    "        f.write(response.content)\n",
    "    print(f\"Downloaded and saved into {full_path}\")\n",
    "    count += 1\n",
    "\n",
    "print(f\"Successfully downloaded {count} out of {len(resources)} resources\")"
   ]
  }
 ],
 "metadata": {
  "description": "A sample notebook for the cooee data",
  "input": "arcp://name,doi10.26180%2F23961609",
  "kernelspec": {
   "display_name": "data_scraping",
   "language": "python",
   "name": "python3"
  },
  "language_info": {
   "codemirror_mode": {
    "name": "ipython",
    "version": 3
   },
   "file_extension": ".py",
   "mimetype": "text/x-python",
   "name": "python",
   "nbconvert_exporter": "python",
   "pygments_lexer": "ipython3",
   "version": "3.12.4"
  },
  "title": "A COrpus of Oz Early English (COOEE) notebook"
 },
 "nbformat": 4,
 "nbformat_minor": 1
}
