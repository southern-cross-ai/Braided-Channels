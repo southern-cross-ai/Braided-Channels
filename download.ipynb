{
 "cells": [
  {
   "cell_type": "markdown",
   "metadata": {},
   "source": [
    "# Braided Channels Research Collection"
   ]
  },
  {
   "cell_type": "markdown",
   "metadata": {},
   "source": [
    "This notebook is used to download the dataset from [LDaCA - Braided Channels](https://data-uat.ldaca.edu.au/collection?id=arcp%3A%2F%2Fname%2Cdoi10.4225%252F01%252F4F8E1281B8E2A&_crateId=arcp%3A%2F%2Fname%2Cdoi10.4225%252F01%252F4F8E1281B8E2A) and licensed under [MIT](https://opensource.org/license/mit).\n",
    "\n",
    "Please acknoledge that this notebook is adapted from [GitHub - Australian-Text-Analytics-Platform/cooee](https://github.com/Australian-Text-Analytics-Platform/cooee/blob/main/cooee.ipynb)."
   ]
  },
  {
   "cell_type": "markdown",
   "metadata": {},
   "source": [
    "## 1. Install/Load Packages"
   ]
  },
  {
   "cell_type": "markdown",
   "metadata": {},
   "source": [
    "To install packages, please uncomment the following code."
   ]
  },
  {
   "cell_type": "code",
   "execution_count": 1,
   "metadata": {},
   "outputs": [],
   "source": [
    "# To install ldaca\n",
    "# !pip install git+https://github.com/Language-Research-Technology/ldaca-py.git\n",
    "\n",
    "# To install rocrate\n",
    "# !pip install rocrate\n",
    "\n",
    "# To install dotenv\n",
    "# !pip install python-dotenv"
   ]
  },
  {
   "cell_type": "code",
   "execution_count": 2,
   "metadata": {
    "pycharm": {
     "name": "#%%\n"
    }
   },
   "outputs": [],
   "source": [
    "import os\n",
    "\n",
    "import requests\n",
    "from dotenv import load_dotenv          # Loads environment variables\n",
    "from ldaca.ldaca import LDaCA           # Loads the LDaCA ReST api wrapper\n",
    "from rocrate_lang.utils import as_list  # A handy utility for converting to list"
   ]
  },
  {
   "cell_type": "markdown",
   "metadata": {},
   "source": [
    "## 2. Set Your API Key"
   ]
  },
  {
   "cell_type": "markdown",
   "metadata": {},
   "source": [
    "Before using [LDaCA](https://data.ldaca.edu.au/)'s APIs to download the dataset, please:\n",
    "\n",
    "1. Register your account at [LDaCA](https://data.ldaca.edu.au).\n",
    "\n",
    "2. Go to **User information**, generate and copy your **API key**.\n",
    "\n",
    "3. Copy and paster your **API key** into the file `vars.env` under the same directory.\n",
    "   \n",
    "   Your `vars.env` should look like the following:\n",
    "   ```txt\n",
    "   API_KEY=1a61****-****-****-****-********d1c5\n",
    "   ```"
   ]
  },
  {
   "cell_type": "code",
   "execution_count": 3,
   "metadata": {
    "pycharm": {
     "name": "#%%\n"
    }
   },
   "outputs": [],
   "source": [
    "load_dotenv('vars.env')             # Load the environment variables located in the vars.env files\n",
    "API_TOKEN = os.getenv('API_KEY')    # Store your environment variable in this notebook\n",
    "if not API_TOKEN:\n",
    "    print(\"Get a token from the portal, set a variable in the vars.env file named API_KEY, then restart the kernel.\")\n"
   ]
  },
  {
   "cell_type": "markdown",
   "metadata": {},
   "source": [
    "## 3. Find All Available Resource Types & Metadata"
   ]
  },
  {
   "cell_type": "code",
   "execution_count": 4,
   "metadata": {
    "collapsed": false,
    "pycharm": {
     "name": "#%%\n"
    }
   },
   "outputs": [
    {
     "name": "stdout",
     "output_type": "stream",
     "text": [
      "<rocrate_lang.rocrate_plus.ROCratePlus object at 0x12035cec0>\n"
     ]
    }
   ],
   "source": [
    "LDACA_API = 'https://data.ldaca.edu.au/api'                # DO NOT CHANGE\n",
    "COLLECTION_ID = 'arcp://name,hdl10.4225~01~4F8E1281B8E2A'  # Change to the collection you want to download\n",
    "\n",
    "# Get the ro-crate metadata. This will create a JSON file under the directory 'metadata'\n",
    "ldaca = LDaCA(url=LDACA_API, token=API_TOKEN, data_dir='metadata')\n",
    "ldaca.retrieve_collection(collection=COLLECTION_ID, collection_type='Collection', data_dir='metadata')\n",
    "\n",
    "# Inspect the metadata\n",
    "metadata = ldaca.crate\n",
    "print(metadata)"
   ]
  },
  {
   "cell_type": "code",
   "execution_count": 5,
   "metadata": {
    "collapsed": false,
    "pycharm": {
     "name": "#%%\n"
    }
   },
   "outputs": [
    {
     "data": {
      "text/plain": [
       "['OrganizationReuseLicense',\n",
       " 'RepositoryObject',\n",
       " 'Organization',\n",
       " 'Person',\n",
       " 'Language',\n",
       " 'PropertyValue',\n",
       " 'Speaker',\n",
       " 'Geometry',\n",
       " 'DefinedTerm',\n",
       " 'SoftwareSourceCode',\n",
       " 'CreateAction',\n",
       " 'File',\n",
       " 'Text',\n",
       " 'Video']"
      ]
     },
     "execution_count": 5,
     "metadata": {},
     "output_type": "execute_result"
    }
   ],
   "source": [
    "# Find all types that have linked objects\n",
    "types = list()\n",
    "for entity in ldaca.crate.contextual_entities + ldaca.crate.data_entities:\n",
    "    entity_type = as_list(entity.type)  # Each type is a list\n",
    "    types.extend([t for t in entity_type])\n",
    "        \n",
    "# Print all the types\n",
    "list(dict.fromkeys(types))"
   ]
  },
  {
   "cell_type": "markdown",
   "metadata": {
    "collapsed": false,
    "pycharm": {
     "name": "#%% md\n"
    }
   },
   "source": [
    "## 3. Build URLs for Main Resources"
   ]
  },
  {
   "cell_type": "code",
   "execution_count": 6,
   "metadata": {},
   "outputs": [
    {
     "name": "stdout",
     "output_type": "stream",
     "text": [
      "29880-0001.pdf https://data.ldaca.edu.au/api/object/arcp%3A%2F%2Fname%2Chdl10.4225~01~4F8E1281B8E2A/fromSLQ/Series%201-Edna%20Jessop_2%20June%202000/29880-0001.pdf\n",
      "29880-0003.pdf https://data.ldaca.edu.au/api/object/arcp%3A%2F%2Fname%2Chdl10.4225~01~4F8E1281B8E2A/fromSLQ/Series%202-Elizabeth%20'Bid'%20Campbell_2%20June%202000/29880-0003.pdf\n",
      "29880-0004.pdf https://data.ldaca.edu.au/api/object/arcp%3A%2F%2Fname%2Chdl10.4225~01~4F8E1281B8E2A/fromSLQ/Series%203-Joslin%20Eatts_3%20June%202000/29880-0004.pdf\n",
      "09_BC_DV_PTB.mov.mp4 https://data.ldaca.edu.au/api/object/arcp%3A%2F%2Fname%2Chdl10.4225~01~4F8E1281B8E2A/09_BC_DV_PTB.mov.mp4\n",
      "09_BC_DV_PTC.mov.mp4 https://data.ldaca.edu.au/api/object/arcp%3A%2F%2Fname%2Chdl10.4225~01~4F8E1281B8E2A/09_BC_DV_PTC.mov.mp4\n",
      "Transcript%2029880-0005.doc https://data.ldaca.edu.au/api/object/arcp%3A%2F%2Fname%2Chdl10.4225~01~4F8E1281B8E2A/fromSLQ/Series%204-Liz%20Debney_4%20June%202000/Transcript%2029880-0005.doc\n",
      "12_BC_DV_PTB.mov.mp4 https://data.ldaca.edu.au/api/object/arcp%3A%2F%2Fname%2Chdl10.4225~01~4F8E1281B8E2A/12_BC_DV_PTB.mov.mp4\n",
      "12_BC_DV_PTC.mov.mp4 https://data.ldaca.edu.au/api/object/arcp%3A%2F%2Fname%2Chdl10.4225~01~4F8E1281B8E2A/12_BC_DV_PTC.mov.mp4\n",
      "13_BC_DV_PTA.mov.mp4 https://data.ldaca.edu.au/api/object/arcp%3A%2F%2Fname%2Chdl10.4225~01~4F8E1281B8E2A/13_BC_DV_PTA.mov.mp4\n",
      "13_BC_DV_PTB.mov.mp4 https://data.ldaca.edu.au/api/object/arcp%3A%2F%2Fname%2Chdl10.4225~01~4F8E1281B8E2A/13_BC_DV_PTB.mov.mp4\n",
      "13_BC_DV_PTC.mov.mp4 https://data.ldaca.edu.au/api/object/arcp%3A%2F%2Fname%2Chdl10.4225~01~4F8E1281B8E2A/13_BC_DV_PTC.mov.mp4\n",
      "14_BC_DV_PTA.mov.mp4 https://data.ldaca.edu.au/api/object/arcp%3A%2F%2Fname%2Chdl10.4225~01~4F8E1281B8E2A/14_BC_DV_PTA.mov.mp4\n",
      "29880-0013.pdf https://data.ldaca.edu.au/api/object/arcp%3A%2F%2Fname%2Chdl10.4225~01~4F8E1281B8E2A/fromSLQ/Series%206-Rhonda%20Alexander_5%20June%202000/29880-0013.pdf\n",
      "29880-0014.pdf https://data.ldaca.edu.au/api/object/arcp%3A%2F%2Fname%2Chdl10.4225~01~4F8E1281B8E2A/fromSLQ/Series%207-June%20Jackson_June%202000/29880-0014.pdf\n",
      "17_BC_DV_PTC.mov.mp4 https://data.ldaca.edu.au/api/object/arcp%3A%2F%2Fname%2Chdl10.4225~01~4F8E1281B8E2A/17_BC_DV_PTC.mov.mp4\n",
      "29880-0016.pdf https://data.ldaca.edu.au/api/object/arcp%3A%2F%2Fname%2Chdl10.4225~01~4F8E1281B8E2A/fromSLQ/Series%208-Jean%20Smith_6%20June%202000/29880-0016.pdf\n",
      "19_BC_DV_PTB.mov.mp4 https://data.ldaca.edu.au/api/object/arcp%3A%2F%2Fname%2Chdl10.4225~01~4F8E1281B8E2A/19_BC_DV_PTB.mov.mp4\n",
      "29880-0016.pdf https://data.ldaca.edu.au/api/object/arcp%3A%2F%2Fname%2Chdl10.4225~01~4F8E1281B8E2A/fromSLQ/Series%208-Jean%20Smith_6%20June%202000/29880-0016.pdf\n",
      "20_BC_DV_PTB.mov.mp4 https://data.ldaca.edu.au/api/object/arcp%3A%2F%2Fname%2Chdl10.4225~01~4F8E1281B8E2A/20_BC_DV_PTB.mov.mp4\n",
      "29880-0020.pdf https://data.ldaca.edu.au/api/object/arcp%3A%2F%2Fname%2Chdl10.4225~01~4F8E1281B8E2A/fromSLQ/Series%209-Alice%20Gorringe_7%20June%202000/29880-0020.pdf\n",
      "29880-0023.pdf https://data.ldaca.edu.au/api/object/arcp%3A%2F%2Fname%2Chdl10.4225~01~4F8E1281B8E2A/fromSLQ/Series%2010-Dot%20Gorrigne_15%20June%202000/29880-0023.pdf\n",
      "29880-0025.pdf https://data.ldaca.edu.au/api/object/arcp%3A%2F%2Fname%2Chdl10.4225~01~4F8E1281B8E2A/fromSLQ/Series%2011-Anne%20Kidd_15%20June%202000/29880-0025.pdf\n",
      "30_BC_SP_PTA.mov.mp4 https://data.ldaca.edu.au/api/object/arcp%3A%2F%2Fname%2Chdl10.4225~01~4F8E1281B8E2A/30_BC_SP_PTA.mov.mp4\n",
      "INTERVIEW%20WITH%20JEANNIE%20REYNOLDS%2001%20of%2003.pdf https://data.ldaca.edu.au/api/object/arcp%3A%2F%2Fname%2Chdl10.4225~01~4F8E1281B8E2A/INTERVIEW%20WITH%20JEANNIE%20REYNOLDS%2001%20of%2003.pdf\n",
      "33_BC_SP_PTA.mov.mp4 https://data.ldaca.edu.au/api/object/arcp%3A%2F%2Fname%2Chdl10.4225~01~4F8E1281B8E2A/33_BC_SP_PTA.mov.mp4\n",
      "33_BC_SP_PTB.mov.mp4 https://data.ldaca.edu.au/api/object/arcp%3A%2F%2Fname%2Chdl10.4225~01~4F8E1281B8E2A/33_BC_SP_PTB.mov.mp4\n",
      "29880-0033.pdf https://data.ldaca.edu.au/api/object/arcp%3A%2F%2Fname%2Chdl10.4225~01~4F8E1281B8E2A/fromSLQ/Series%2013-Linda%20Crombie_17%20June%202000/29880-0033.pdf\n",
      "36_BC_SP_PTA.mov.mp4 https://data.ldaca.edu.au/api/object/arcp%3A%2F%2Fname%2Chdl10.4225~01~4F8E1281B8E2A/36_BC_SP_PTA.mov.mp4\n",
      "36_BC_SP_PTB.mov.mp4 https://data.ldaca.edu.au/api/object/arcp%3A%2F%2Fname%2Chdl10.4225~01~4F8E1281B8E2A/36_BC_SP_PTB.mov.mp4\n",
      "29880-0036.pdf https://data.ldaca.edu.au/api/object/arcp%3A%2F%2Fname%2Chdl10.4225~01~4F8E1281B8E2A/fromSLQ/Series%2014-Julie%20Groves_19%20June%202000/29880-0036.pdf\n",
      "29880-0039.pdf https://data.ldaca.edu.au/api/object/arcp%3A%2F%2Fname%2Chdl10.4225~01~4F8E1281B8E2A/fromSLQ/Series%2015-Narelle%20and%20Bronwen%20Morrish_19%20June%202000/29880-0039.pdf\n",
      "43_BC_SP_PTB.mov.mp4 https://data.ldaca.edu.au/api/object/arcp%3A%2F%2Fname%2Chdl10.4225~01~4F8E1281B8E2A/43_BC_SP_PTB.mov.mp4\n",
      "29880-0039.pdf https://data.ldaca.edu.au/api/object/arcp%3A%2F%2Fname%2Chdl10.4225~01~4F8E1281B8E2A/fromSLQ/Series%2015-Narelle%20and%20Bronwen%20Morrish_19%20June%202000/29880-0039.pdf\n",
      "44_BC_SP_PTB.mov.mp4 https://data.ldaca.edu.au/api/object/arcp%3A%2F%2Fname%2Chdl10.4225~01~4F8E1281B8E2A/44_BC_SP_PTB.mov.mp4\n",
      "44_BC_SP_PTC.mov.mp4 https://data.ldaca.edu.au/api/object/arcp%3A%2F%2Fname%2Chdl10.4225~01~4F8E1281B8E2A/44_BC_SP_PTC.mov.mp4\n",
      "29880-0044.pdf https://data.ldaca.edu.au/api/object/arcp%3A%2F%2Fname%2Chdl10.4225~01~4F8E1281B8E2A/fromSLQ/Series%2016-Mandy%20Murray_20%20June%202000/29880-0044.pdf\n",
      "47_BC_SP_PTB.mov.mp4 https://data.ldaca.edu.au/api/object/arcp%3A%2F%2Fname%2Chdl10.4225~01~4F8E1281B8E2A/47_BC_SP_PTB.mov.mp4\n",
      "47_BC_SP_PTC.mov.mp4 https://data.ldaca.edu.au/api/object/arcp%3A%2F%2Fname%2Chdl10.4225~01~4F8E1281B8E2A/47_BC_SP_PTC.mov.mp4\n",
      "47_BC_SP_PTD.mov.mp4 https://data.ldaca.edu.au/api/object/arcp%3A%2F%2Fname%2Chdl10.4225~01~4F8E1281B8E2A/47_BC_SP_PTD.mov.mp4\n",
      "47_BC_SP_PTE.mov.mp4 https://data.ldaca.edu.au/api/object/arcp%3A%2F%2Fname%2Chdl10.4225~01~4F8E1281B8E2A/47_BC_SP_PTE.mov.mp4\n",
      "48_BC_SP_PTA.mov.mp4 https://data.ldaca.edu.au/api/object/arcp%3A%2F%2Fname%2Chdl10.4225~01~4F8E1281B8E2A/48_BC_SP_PTA.mov.mp4\n",
      "29880-0052.pdf https://data.ldaca.edu.au/api/object/arcp%3A%2F%2Fname%2Chdl10.4225~01~4F8E1281B8E2A/fromSLQ/Series%2018-Bev%20Maunsell_21%20June%202000/29880-0052.pdf\n",
      "29880-0056.pdf https://data.ldaca.edu.au/api/object/arcp%3A%2F%2Fname%2Chdl10.4225~01~4F8E1281B8E2A/fromSLQ/Series%2019-Gladys%20Cross_22%20June%202000/29880-0056.pdf\n",
      "29880-0056.pdf https://data.ldaca.edu.au/api/object/arcp%3A%2F%2Fname%2Chdl10.4225~01~4F8E1281B8E2A/fromSLQ/Series%2019-Gladys%20Cross_22%20June%202000/29880-0056.pdf\n",
      "55_BC_SP.mov.mp4 https://data.ldaca.edu.au/api/object/arcp%3A%2F%2Fname%2Chdl10.4225~01~4F8E1281B8E2A/55_BC_SP.mov.mp4\n",
      "29880-0056.pdf https://data.ldaca.edu.au/api/object/arcp%3A%2F%2Fname%2Chdl10.4225~01~4F8E1281B8E2A/fromSLQ/Series%2019-Gladys%20Cross_22%20June%202000/29880-0056.pdf\n",
      "29880-0061.pdf https://data.ldaca.edu.au/api/object/arcp%3A%2F%2Fname%2Chdl10.4225~01~4F8E1281B8E2A/fromSLQ/Series%2020-Kristina%20Plant_25%20June%202000/29880-0061.pdf\n",
      "INTERVIEW%20WITH%20DAVID%20DUNCAN-KEMP%2001%20of%2002.pdf https://data.ldaca.edu.au/api/object/arcp%3A%2F%2Fname%2Chdl10.4225~01~4F8E1281B8E2A/INTERVIEW%20WITH%20DAVID%20DUNCAN-KEMP%2001%20of%2002.pdf\n",
      "63_BC_SP_PTC.mov.mp4 https://data.ldaca.edu.au/api/object/arcp%3A%2F%2Fname%2Chdl10.4225~01~4F8E1281B8E2A/63_BC_SP_PTC.mov.mp4\n",
      "29880-0063.pdf https://data.ldaca.edu.au/api/object/arcp%3A%2F%2Fname%2Chdl10.4225~01~4F8E1281B8E2A/fromSLQ/Series%2021-David%20Duncan-Kemp_30%20August%202000/29880-0063.pdf\n",
      "INTERVIEW%20WITH%20SYLVIE%20DUNCAN%2001%20of%2002.pdf https://data.ldaca.edu.au/api/object/arcp%3A%2F%2Fname%2Chdl10.4225~01~4F8E1281B8E2A/INTERVIEW%20WITH%20SYLVIE%20DUNCAN%2001%20of%2002.pdf\n",
      "29880-0069.pdf https://data.ldaca.edu.au/api/object/arcp%3A%2F%2Fname%2Chdl10.4225~01~4F8E1281B8E2A/fromSLQ/Series%2023-Isabel%20Tarrago%20%26%20Shirley%20Finn_3%20September%202000/29880-0069.pdf\n",
      "29880-0072.pdf https://data.ldaca.edu.au/api/object/arcp%3A%2F%2Fname%2Chdl10.4225~01~4F8E1281B8E2A/fromSLQ/Series%2024-Francie%20Hammond/29880-0072.pdf\n",
      "INTERVIEW%20WITH%20PAM%20WATSON%2001%20of%2004.pdf https://data.ldaca.edu.au/api/object/arcp%3A%2F%2Fname%2Chdl10.4225~01~4F8E1281B8E2A/INTERVIEW%20WITH%20PAM%20WATSON%2001%20of%2004.pdf\n",
      "29880-0079.pdf https://data.ldaca.edu.au/api/object/arcp%3A%2F%2Fname%2Chdl10.4225~01~4F8E1281B8E2A/fromSLQ/Series%2026-Patricia%20Hodgkinson_10%20January%202002/29880-0079.pdf\n"
     ]
    }
   ],
   "source": [
    "# Specify where the main resources is stored\n",
    "PRIMARY_OBJECT = 'RepositoryObject'\n",
    "\n",
    "# Build URLs for all main resources\n",
    "urls = {}  # key: name, value: url\n",
    "for entity in ldaca.crate.contextual_entities + ldaca.crate.data_entities:\n",
    "    if PRIMARY_OBJECT in as_list(entity.type):\n",
    "        item = ldaca.crate.dereference(entity.id).as_jsonld()['hasPart']\n",
    "        url = item[0]['@id'] if type(item) == list else item['@id']\n",
    "        name = url.split('/')[-1]\n",
    "        urls[name] = url\n",
    "        print(name, url)"
   ]
  },
  {
   "cell_type": "markdown",
   "metadata": {},
   "source": [
    "## 4. Download Resources from URLs"
   ]
  },
  {
   "cell_type": "code",
   "execution_count": 7,
   "metadata": {},
   "outputs": [
    {
     "name": "stdout",
     "output_type": "stream",
     "text": [
      "Downloaded as Braided-Channels/29880-0001.pdf\n",
      "Downloaded as Braided-Channels/29880-0003.pdf\n",
      "Downloaded as Braided-Channels/29880-0004.pdf\n",
      "Downloaded as Braided-Channels/09_BC_DV_PTB.mov.mp4\n",
      "Downloaded as Braided-Channels/09_BC_DV_PTC.mov.mp4\n",
      "Downloaded as Braided-Channels/Transcript%2029880-0005.doc\n",
      "Downloaded as Braided-Channels/12_BC_DV_PTB.mov.mp4\n",
      "Downloaded as Braided-Channels/12_BC_DV_PTC.mov.mp4\n",
      "Downloaded as Braided-Channels/13_BC_DV_PTA.mov.mp4\n",
      "Downloaded as Braided-Channels/13_BC_DV_PTB.mov.mp4\n",
      "Downloaded as Braided-Channels/13_BC_DV_PTC.mov.mp4\n",
      "Downloaded as Braided-Channels/14_BC_DV_PTA.mov.mp4\n",
      "Downloaded as Braided-Channels/29880-0013.pdf\n",
      "Downloaded as Braided-Channels/29880-0014.pdf\n",
      "Downloaded as Braided-Channels/17_BC_DV_PTC.mov.mp4\n",
      "Downloaded as Braided-Channels/29880-0016.pdf\n",
      "Downloaded as Braided-Channels/19_BC_DV_PTB.mov.mp4\n",
      "Downloaded as Braided-Channels/20_BC_DV_PTB.mov.mp4\n",
      "Downloaded as Braided-Channels/29880-0020.pdf\n",
      "Downloaded as Braided-Channels/29880-0023.pdf\n",
      "Downloaded as Braided-Channels/29880-0025.pdf\n",
      "Downloaded as Braided-Channels/30_BC_SP_PTA.mov.mp4\n",
      "Downloaded as Braided-Channels/INTERVIEW%20WITH%20JEANNIE%20REYNOLDS%2001%20of%2003.pdf\n",
      "Downloaded as Braided-Channels/33_BC_SP_PTA.mov.mp4\n",
      "Downloaded as Braided-Channels/33_BC_SP_PTB.mov.mp4\n",
      "Downloaded as Braided-Channels/29880-0033.pdf\n",
      "Downloaded as Braided-Channels/36_BC_SP_PTA.mov.mp4\n",
      "Downloaded as Braided-Channels/36_BC_SP_PTB.mov.mp4\n",
      "Downloaded as Braided-Channels/29880-0036.pdf\n",
      "Downloaded as Braided-Channels/29880-0039.pdf\n",
      "Downloaded as Braided-Channels/43_BC_SP_PTB.mov.mp4\n",
      "Downloaded as Braided-Channels/44_BC_SP_PTB.mov.mp4\n",
      "Downloaded as Braided-Channels/44_BC_SP_PTC.mov.mp4\n",
      "Downloaded as Braided-Channels/29880-0044.pdf\n",
      "Downloaded as Braided-Channels/47_BC_SP_PTB.mov.mp4\n",
      "Downloaded as Braided-Channels/47_BC_SP_PTC.mov.mp4\n",
      "Downloaded as Braided-Channels/47_BC_SP_PTD.mov.mp4\n",
      "Downloaded as Braided-Channels/47_BC_SP_PTE.mov.mp4\n",
      "Downloaded as Braided-Channels/48_BC_SP_PTA.mov.mp4\n",
      "Downloaded as Braided-Channels/29880-0052.pdf\n",
      "Downloaded as Braided-Channels/29880-0056.pdf\n",
      "Downloaded as Braided-Channels/55_BC_SP.mov.mp4\n",
      "Downloaded as Braided-Channels/29880-0061.pdf\n",
      "Downloaded as Braided-Channels/INTERVIEW%20WITH%20DAVID%20DUNCAN-KEMP%2001%20of%2002.pdf\n",
      "Downloaded as Braided-Channels/63_BC_SP_PTC.mov.mp4\n",
      "Downloaded as Braided-Channels/29880-0063.pdf\n",
      "Downloaded as Braided-Channels/INTERVIEW%20WITH%20SYLVIE%20DUNCAN%2001%20of%2002.pdf\n",
      "Downloaded as Braided-Channels/29880-0069.pdf\n",
      "Downloaded as Braided-Channels/29880-0072.pdf\n",
      "Downloaded as Braided-Channels/INTERVIEW%20WITH%20PAM%20WATSON%2001%20of%2004.pdf\n",
      "Downloaded as Braided-Channels/29880-0079.pdf\n"
     ]
    }
   ],
   "source": [
    "# Specify a location you want to download all the resources to\n",
    "SAVE_PATH = 'Braided-Channels'\n",
    "\n",
    "# Download resources by sending requests\n",
    "for name, url in urls.items():\n",
    "    headers = {\"Authorization\": \"Bearer %s\" % API_TOKEN}\n",
    "    # Send a GET request to the URL\n",
    "    response = requests.get(url, headers=headers)\n",
    "    if SAVE_PATH is None:\n",
    "        full_path = name\n",
    "    else:\n",
    "        # Check whether the save_path is existed\n",
    "        if not os.path.exists(SAVE_PATH):\n",
    "            os.makedirs(SAVE_PATH)\n",
    "        full_path = os.path.join(SAVE_PATH, name)\n",
    "    # Write the content of the response to a file\n",
    "    with open(full_path, 'wb') as f:\n",
    "        f.write(response.content)\n",
    "    print(f\"Downloaded as {full_path}\")"
   ]
  }
 ],
 "metadata": {
  "description": "A sample notebook for the cooee data",
  "input": "arcp://name,doi10.26180%2F23961609",
  "kernelspec": {
   "display_name": "data_scraping",
   "language": "python",
   "name": "python3"
  },
  "language_info": {
   "codemirror_mode": {
    "name": "ipython",
    "version": 3
   },
   "file_extension": ".py",
   "mimetype": "text/x-python",
   "name": "python",
   "nbconvert_exporter": "python",
   "pygments_lexer": "ipython3",
   "version": "3.12.4"
  },
  "title": "A COrpus of Oz Early English (COOEE) notebook"
 },
 "nbformat": 4,
 "nbformat_minor": 1
}
